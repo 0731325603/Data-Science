{
 "cells": [
  {
   "cell_type": "markdown",
   "id": "9afb7447",
   "metadata": {},
   "source": [
    "# Data Science Interview Assignment"
   ]
  },
  {
   "cell_type": "markdown",
   "id": "de7dfcd5",
   "metadata": {},
   "source": [
    "smesh.bhungane@gmail.com"
   ]
  },
  {
   "cell_type": "code",
   "execution_count": 259,
   "id": "19d8576d",
   "metadata": {},
   "outputs": [],
   "source": [
    "# import libraries\n",
    "import pandas as pd\n",
    "import numpy as np\n",
    " \n",
    "import warnings\n",
    "import seaborn as sns\n",
    "import matplotlib.pyplot as plt\n",
    "warnings.simplefilter(action='ignore', category=FutureWarning)\n",
    "%matplotlib inline"
   ]
  },
  {
   "cell_type": "code",
   "execution_count": 260,
   "id": "755c5bb9",
   "metadata": {},
   "outputs": [],
   "source": [
    "# load excel file\n",
    "df = pd.read_excel(\"pone.0212445.s004 - Copy.xlsx\", sheet_name = 'estimates')"
   ]
  },
  {
   "cell_type": "markdown",
   "id": "ca3b1ee5",
   "metadata": {},
   "source": [
    "S4 Table.  Direct survey domain and \"Fay-Heriott\" small area estimates of HIV prevalence and the numbers of people living with HIV (NoPLHIV) in the districts of South Africa obtained from Model 3.  LCL and UCL denotes the lower and upper limits, respectively, of 95% confidence intervals."
   ]
  },
  {
   "cell_type": "code",
   "execution_count": 261,
   "id": "ab820d02",
   "metadata": {},
   "outputs": [
    {
     "data": {
      "text/html": [
       "<div>\n",
       "<style scoped>\n",
       "    .dataframe tbody tr th:only-of-type {\n",
       "        vertical-align: middle;\n",
       "    }\n",
       "\n",
       "    .dataframe tbody tr th {\n",
       "        vertical-align: top;\n",
       "    }\n",
       "\n",
       "    .dataframe thead th {\n",
       "        text-align: right;\n",
       "    }\n",
       "</style>\n",
       "<table border=\"1\" class=\"dataframe\">\n",
       "  <thead>\n",
       "    <tr style=\"text-align: right;\">\n",
       "      <th></th>\n",
       "      <th>District</th>\n",
       "      <th>Code</th>\n",
       "      <th>Estimate</th>\n",
       "      <th>Prevalence_%</th>\n",
       "      <th>Prevalence_LCL</th>\n",
       "      <th>Prevalence_UCL</th>\n",
       "      <th>NoPLHIV</th>\n",
       "      <th>NoPLHIV_LCL</th>\n",
       "      <th>NoPLHIV_UCL</th>\n",
       "    </tr>\n",
       "  </thead>\n",
       "  <tbody>\n",
       "    <tr>\n",
       "      <th>0</th>\n",
       "      <td>Buffalo City</td>\n",
       "      <td>BUF</td>\n",
       "      <td>Survey</td>\n",
       "      <td>13.600000</td>\n",
       "      <td>10.268000</td>\n",
       "      <td>16.932000</td>\n",
       "      <td>102437</td>\n",
       "      <td>77340</td>\n",
       "      <td>127534</td>\n",
       "    </tr>\n",
       "    <tr>\n",
       "      <th>1</th>\n",
       "      <td>Buffalo City</td>\n",
       "      <td>BUF</td>\n",
       "      <td>Fay-Heriott</td>\n",
       "      <td>13.501283</td>\n",
       "      <td>11.031605</td>\n",
       "      <td>16.421802</td>\n",
       "      <td>101693</td>\n",
       "      <td>83092</td>\n",
       "      <td>123691</td>\n",
       "    </tr>\n",
       "    <tr>\n",
       "      <th>2</th>\n",
       "      <td>City of Cape Town</td>\n",
       "      <td>CPT</td>\n",
       "      <td>Survey</td>\n",
       "      <td>5.200000</td>\n",
       "      <td>3.044000</td>\n",
       "      <td>7.356000</td>\n",
       "      <td>200751</td>\n",
       "      <td>117517</td>\n",
       "      <td>283985</td>\n",
       "    </tr>\n",
       "    <tr>\n",
       "      <th>3</th>\n",
       "      <td>City of Cape Town</td>\n",
       "      <td>CPT</td>\n",
       "      <td>Fay-Heriott</td>\n",
       "      <td>6.020043</td>\n",
       "      <td>4.335072</td>\n",
       "      <td>8.303091</td>\n",
       "      <td>232409</td>\n",
       "      <td>167359</td>\n",
       "      <td>320548</td>\n",
       "    </tr>\n",
       "    <tr>\n",
       "      <th>4</th>\n",
       "      <td>West Coast</td>\n",
       "      <td>DC1</td>\n",
       "      <td>Survey</td>\n",
       "      <td>2.700000</td>\n",
       "      <td>0.000000</td>\n",
       "      <td>5.444000</td>\n",
       "      <td>11302</td>\n",
       "      <td>0</td>\n",
       "      <td>22789</td>\n",
       "    </tr>\n",
       "  </tbody>\n",
       "</table>\n",
       "</div>"
      ],
      "text/plain": [
       "            District Code     Estimate  Prevalence_%  Prevalence_LCL  \\\n",
       "0       Buffalo City  BUF       Survey     13.600000       10.268000   \n",
       "1       Buffalo City  BUF  Fay-Heriott     13.501283       11.031605   \n",
       "2  City of Cape Town  CPT       Survey      5.200000        3.044000   \n",
       "3  City of Cape Town  CPT  Fay-Heriott      6.020043        4.335072   \n",
       "4         West Coast  DC1       Survey      2.700000        0.000000   \n",
       "\n",
       "   Prevalence_UCL  NoPLHIV  NoPLHIV_LCL  NoPLHIV_UCL  \n",
       "0       16.932000   102437        77340       127534  \n",
       "1       16.421802   101693        83092       123691  \n",
       "2        7.356000   200751       117517       283985  \n",
       "3        8.303091   232409       167359       320548  \n",
       "4        5.444000    11302            0        22789  "
      ]
     },
     "execution_count": 261,
     "metadata": {},
     "output_type": "execute_result"
    }
   ],
   "source": [
    "# fisrt five rows\n",
    "df.head()"
   ]
  },
  {
   "cell_type": "code",
   "execution_count": 262,
   "id": "e56cf097",
   "metadata": {},
   "outputs": [
    {
     "name": "stdout",
     "output_type": "stream",
     "text": [
      "data:\n",
      "Index(['District', 'Code', 'Estimate', 'Prevalence_%', 'Prevalence_LCL',\n",
      "       'Prevalence_UCL', 'NoPLHIV', 'NoPLHIV_LCL', 'NoPLHIV_UCL'],\n",
      "      dtype='object')\n"
     ]
    }
   ],
   "source": [
    "# print the column names of the dastaframes\n",
    "print(\"data:\\n{}\".format(df.columns))"
   ]
  },
  {
   "cell_type": "code",
   "execution_count": 263,
   "id": "f13ff8f2",
   "metadata": {},
   "outputs": [
    {
     "name": "stdout",
     "output_type": "stream",
     "text": [
      "<class 'pandas.core.frame.DataFrame'>\n",
      "RangeIndex: 104 entries, 0 to 103\n",
      "Data columns (total 9 columns):\n",
      " #   Column          Non-Null Count  Dtype  \n",
      "---  ------          --------------  -----  \n",
      " 0   District        104 non-null    object \n",
      " 1   Code            104 non-null    object \n",
      " 2   Estimate        104 non-null    object \n",
      " 3   Prevalence_%    104 non-null    float64\n",
      " 4   Prevalence_LCL  104 non-null    float64\n",
      " 5   Prevalence_UCL  104 non-null    float64\n",
      " 6   NoPLHIV         104 non-null    int64  \n",
      " 7   NoPLHIV_LCL     104 non-null    int64  \n",
      " 8   NoPLHIV_UCL     104 non-null    int64  \n",
      "dtypes: float64(3), int64(3), object(3)\n",
      "memory usage: 7.4+ KB\n"
     ]
    }
   ],
   "source": [
    "# check data info\n",
    "df.info()"
   ]
  },
  {
   "cell_type": "code",
   "execution_count": 264,
   "id": "ba2a2d5c",
   "metadata": {},
   "outputs": [
    {
     "name": "stdout",
     "output_type": "stream",
     "text": [
      "Rows     :  104\n",
      "Columns  :  9\n",
      "\n",
      "Missing values :   0\n"
     ]
    }
   ],
   "source": [
    "# dataset rows and columns\n",
    "print (\"Rows     : \" , df.shape[0])\n",
    "print (\"Columns  : \" , df.shape[1])\n",
    "print (\"\\nMissing values :  \", df.isnull().sum().values.sum())"
   ]
  },
  {
   "cell_type": "code",
   "execution_count": 265,
   "id": "a2d9df99",
   "metadata": {},
   "outputs": [
    {
     "data": {
      "text/plain": [
       "52"
      ]
     },
     "execution_count": 265,
     "metadata": {},
     "output_type": "execute_result"
    }
   ],
   "source": [
    "# counting unique districts\n",
    "df['District'].nunique()"
   ]
  },
  {
   "cell_type": "code",
   "execution_count": 266,
   "id": "9b5e7d13",
   "metadata": {},
   "outputs": [
    {
     "data": {
      "text/html": [
       "<div>\n",
       "<style scoped>\n",
       "    .dataframe tbody tr th:only-of-type {\n",
       "        vertical-align: middle;\n",
       "    }\n",
       "\n",
       "    .dataframe tbody tr th {\n",
       "        vertical-align: top;\n",
       "    }\n",
       "\n",
       "    .dataframe thead th {\n",
       "        text-align: right;\n",
       "    }\n",
       "</style>\n",
       "<table border=\"1\" class=\"dataframe\">\n",
       "  <thead>\n",
       "    <tr style=\"text-align: right;\">\n",
       "      <th></th>\n",
       "      <th>Prevalence_%</th>\n",
       "      <th>Prevalence_LCL</th>\n",
       "      <th>Prevalence_UCL</th>\n",
       "      <th>NoPLHIV</th>\n",
       "      <th>NoPLHIV_LCL</th>\n",
       "      <th>NoPLHIV_UCL</th>\n",
       "    </tr>\n",
       "  </thead>\n",
       "  <tbody>\n",
       "    <tr>\n",
       "      <th>count</th>\n",
       "      <td>104.000000</td>\n",
       "      <td>104.000000</td>\n",
       "      <td>104.000000</td>\n",
       "      <td>104.000000</td>\n",
       "      <td>104.000000</td>\n",
       "      <td>104.000000</td>\n",
       "    </tr>\n",
       "    <tr>\n",
       "      <th>mean</th>\n",
       "      <td>12.113805</td>\n",
       "      <td>8.507655</td>\n",
       "      <td>16.142182</td>\n",
       "      <td>123914.230769</td>\n",
       "      <td>89210.009615</td>\n",
       "      <td>162458.317308</td>\n",
       "    </tr>\n",
       "    <tr>\n",
       "      <th>std</th>\n",
       "      <td>4.978586</td>\n",
       "      <td>4.635330</td>\n",
       "      <td>6.055076</td>\n",
       "      <td>115469.372356</td>\n",
       "      <td>89791.909524</td>\n",
       "      <td>145761.963447</td>\n",
       "    </tr>\n",
       "    <tr>\n",
       "      <th>min</th>\n",
       "      <td>1.584032</td>\n",
       "      <td>0.000000</td>\n",
       "      <td>2.998406</td>\n",
       "      <td>1876.000000</td>\n",
       "      <td>0.000000</td>\n",
       "      <td>3552.000000</td>\n",
       "    </tr>\n",
       "    <tr>\n",
       "      <th>25%</th>\n",
       "      <td>8.869829</td>\n",
       "      <td>4.911882</td>\n",
       "      <td>12.301325</td>\n",
       "      <td>46667.500000</td>\n",
       "      <td>28057.750000</td>\n",
       "      <td>68507.750000</td>\n",
       "    </tr>\n",
       "    <tr>\n",
       "      <th>50%</th>\n",
       "      <td>11.750000</td>\n",
       "      <td>8.165653</td>\n",
       "      <td>15.935119</td>\n",
       "      <td>99751.500000</td>\n",
       "      <td>69407.500000</td>\n",
       "      <td>136812.000000</td>\n",
       "    </tr>\n",
       "    <tr>\n",
       "      <th>75%</th>\n",
       "      <td>15.718785</td>\n",
       "      <td>11.617805</td>\n",
       "      <td>19.378361</td>\n",
       "      <td>146335.500000</td>\n",
       "      <td>115101.250000</td>\n",
       "      <td>181302.250000</td>\n",
       "    </tr>\n",
       "    <tr>\n",
       "      <th>max</th>\n",
       "      <td>25.000000</td>\n",
       "      <td>18.218028</td>\n",
       "      <td>40.945994</td>\n",
       "      <td>515387.000000</td>\n",
       "      <td>408472.000000</td>\n",
       "      <td>660996.000000</td>\n",
       "    </tr>\n",
       "  </tbody>\n",
       "</table>\n",
       "</div>"
      ],
      "text/plain": [
       "       Prevalence_%  Prevalence_LCL  Prevalence_UCL        NoPLHIV  \\\n",
       "count    104.000000      104.000000      104.000000     104.000000   \n",
       "mean      12.113805        8.507655       16.142182  123914.230769   \n",
       "std        4.978586        4.635330        6.055076  115469.372356   \n",
       "min        1.584032        0.000000        2.998406    1876.000000   \n",
       "25%        8.869829        4.911882       12.301325   46667.500000   \n",
       "50%       11.750000        8.165653       15.935119   99751.500000   \n",
       "75%       15.718785       11.617805       19.378361  146335.500000   \n",
       "max       25.000000       18.218028       40.945994  515387.000000   \n",
       "\n",
       "         NoPLHIV_LCL    NoPLHIV_UCL  \n",
       "count     104.000000     104.000000  \n",
       "mean    89210.009615  162458.317308  \n",
       "std     89791.909524  145761.963447  \n",
       "min         0.000000    3552.000000  \n",
       "25%     28057.750000   68507.750000  \n",
       "50%     69407.500000  136812.000000  \n",
       "75%    115101.250000  181302.250000  \n",
       "max    408472.000000  660996.000000  "
      ]
     },
     "execution_count": 266,
     "metadata": {},
     "output_type": "execute_result"
    }
   ],
   "source": [
    "# descriptive statistics\n",
    "df.describe()"
   ]
  },
  {
   "cell_type": "code",
   "execution_count": 267,
   "id": "3ddfb6ac",
   "metadata": {},
   "outputs": [
    {
     "data": {
      "text/plain": [
       "Survey         0.5\n",
       "Fay-Heriott    0.5\n",
       "Name: Estimate, dtype: float64"
      ]
     },
     "execution_count": 267,
     "metadata": {},
     "output_type": "execute_result"
    }
   ],
   "source": [
    "# counting Estimate\n",
    "df['Estimate'].value_counts(normalize=True) "
   ]
  },
  {
   "cell_type": "code",
   "execution_count": 268,
   "id": "4d7f479c",
   "metadata": {},
   "outputs": [
    {
     "data": {
      "text/plain": [
       "''"
      ]
     },
     "execution_count": 268,
     "metadata": {},
     "output_type": "execute_result"
    },
    {
     "data": {
      "image/png": "[encoded data removed]",
      "text/plain": [
       "<Figure size 504x504 with 2 Axes>"
      ]
     },
     "metadata": {
      "needs_background": "light"
     },
     "output_type": "display_data"
    }
   ],
   "source": [
    "# correlation plot\n",
    "f, ax = plt.subplots(1, 1, figsize=(7, 7))\n",
    "ax = sns.heatmap(df.corr(), annot=True, cmap='cool')\n",
    "plt.title('Dataset correlation plot') \n",
    ","
   ]
  },
  {
   "cell_type": "markdown",
   "id": "3eb78e2a",
   "metadata": {},
   "source": [
    "a) What is the total number of people living with HIV (NoPLHIV) in the listed districts according to the Survey estimate?"
   ]
  },
  {
   "cell_type": "code",
   "execution_count": 269,
   "id": "24526f42",
   "metadata": {},
   "outputs": [
    {
     "data": {
      "text/plain": [
       "Estimate\n",
       "Fay-Heriott    6477177\n",
       "Survey         6409903\n",
       "Name: NoPLHIV, dtype: int64"
      ]
     },
     "execution_count": 269,
     "metadata": {},
     "output_type": "execute_result"
    }
   ],
   "source": [
    "df.groupby('Estimate')['NoPLHIV'].agg('sum')"
   ]
  },
  {
   "cell_type": "code",
   "execution_count": 270,
   "id": "91c190fc",
   "metadata": {},
   "outputs": [
    {
     "data": {
      "text/plain": [
       "Estimate     District         \n",
       "Fay-Heriott  Alfred Nzo           105145\n",
       "             Amajuba               81010\n",
       "             Amatole              106783\n",
       "             Bojanala Platinum    212727\n",
       "             Buffalo City         101693\n",
       "                                   ...  \n",
       "Survey       uMgungundlovu        221073\n",
       "             uMkhanyakude          86131\n",
       "             uMzinyathi            93587\n",
       "             uThukela             118124\n",
       "             uThungulu            162238\n",
       "Name: NoPLHIV, Length: 104, dtype: int64"
      ]
     },
     "execution_count": 270,
     "metadata": {},
     "output_type": "execute_result"
    }
   ],
   "source": [
    "df.groupby([\"Estimate\", \"District\"])['NoPLHIV'].sum()"
   ]
  },
  {
   "cell_type": "markdown",
   "id": "bad172cd",
   "metadata": {},
   "source": [
    "**Survey estimate shows that the total number of 6409903  people are living with HIV (NoPLHIV) in the listed districts**"
   ]
  },
  {
   "cell_type": "markdown",
   "id": "239df880",
   "metadata": {},
   "source": [
    "b) What is the average NoPLHIV of the two estimates used for “Xhariep”?"
   ]
  },
  {
   "cell_type": "code",
   "execution_count": 271,
   "id": "7d8e491c",
   "metadata": {},
   "outputs": [
    {
     "data": {
      "text/plain": [
       "Estimate\n",
       "Fay-Heriott    124561.096154\n",
       "Survey         123267.365385\n",
       "Name: NoPLHIV, dtype: float64"
      ]
     },
     "execution_count": 271,
     "metadata": {},
     "output_type": "execute_result"
    }
   ],
   "source": [
    "df.groupby('Estimate')['NoPLHIV'].agg('mean')"
   ]
  },
  {
   "cell_type": "code",
   "execution_count": 272,
   "id": "06a2092a",
   "metadata": {
    "scrolled": true
   },
   "outputs": [
    {
     "data": {
      "text/plain": [
       "Estimate\n",
       "Fay-Heriott    12718\n",
       "Survey         11777\n",
       "Name: NoPLHIV, dtype: int64"
      ]
     },
     "execution_count": 272,
     "metadata": {},
     "output_type": "execute_result"
    }
   ],
   "source": [
    "df[df['District']=='Xhariep'].groupby('Estimate')['NoPLHIV'].agg('mean')"
   ]
  },
  {
   "cell_type": "markdown",
   "id": "a0742112",
   "metadata": {},
   "source": [
    "c) Add a column and populate it with the number of people not living with HIV for each row.\n",
    "\n",
    "**Prevalence** is noted to be number of people living withe the certain medical condition, to calculate Non prevalence in percentage will be \n",
    "\n",
    "**Non_Prevalence% = 100 - Prevalence_%**"
   ]
  },
  {
   "cell_type": "code",
   "execution_count": 273,
   "id": "5a284686",
   "metadata": {},
   "outputs": [
    {
     "data": {
      "text/html": [
       "<div>\n",
       "<style scoped>\n",
       "    .dataframe tbody tr th:only-of-type {\n",
       "        vertical-align: middle;\n",
       "    }\n",
       "\n",
       "    .dataframe tbody tr th {\n",
       "        vertical-align: top;\n",
       "    }\n",
       "\n",
       "    .dataframe thead th {\n",
       "        text-align: right;\n",
       "    }\n",
       "</style>\n",
       "<table border=\"1\" class=\"dataframe\">\n",
       "  <thead>\n",
       "    <tr style=\"text-align: right;\">\n",
       "      <th></th>\n",
       "      <th>District</th>\n",
       "      <th>Code</th>\n",
       "      <th>Estimate</th>\n",
       "      <th>Prevalence_%</th>\n",
       "      <th>Prevalence_LCL</th>\n",
       "      <th>Prevalence_UCL</th>\n",
       "      <th>NoPLHIV</th>\n",
       "      <th>NoPLHIV_LCL</th>\n",
       "      <th>NoPLHIV_UCL</th>\n",
       "      <th>Non_Prevalence%</th>\n",
       "    </tr>\n",
       "  </thead>\n",
       "  <tbody>\n",
       "    <tr>\n",
       "      <th>0</th>\n",
       "      <td>Buffalo City</td>\n",
       "      <td>BUF</td>\n",
       "      <td>Survey</td>\n",
       "      <td>13.600000</td>\n",
       "      <td>10.268000</td>\n",
       "      <td>16.932000</td>\n",
       "      <td>102437</td>\n",
       "      <td>77340</td>\n",
       "      <td>127534</td>\n",
       "      <td>86.400000</td>\n",
       "    </tr>\n",
       "    <tr>\n",
       "      <th>1</th>\n",
       "      <td>Buffalo City</td>\n",
       "      <td>BUF</td>\n",
       "      <td>Fay-Heriott</td>\n",
       "      <td>13.501283</td>\n",
       "      <td>11.031605</td>\n",
       "      <td>16.421802</td>\n",
       "      <td>101693</td>\n",
       "      <td>83092</td>\n",
       "      <td>123691</td>\n",
       "      <td>86.498717</td>\n",
       "    </tr>\n",
       "    <tr>\n",
       "      <th>2</th>\n",
       "      <td>City of Cape Town</td>\n",
       "      <td>CPT</td>\n",
       "      <td>Survey</td>\n",
       "      <td>5.200000</td>\n",
       "      <td>3.044000</td>\n",
       "      <td>7.356000</td>\n",
       "      <td>200751</td>\n",
       "      <td>117517</td>\n",
       "      <td>283985</td>\n",
       "      <td>94.800000</td>\n",
       "    </tr>\n",
       "    <tr>\n",
       "      <th>3</th>\n",
       "      <td>City of Cape Town</td>\n",
       "      <td>CPT</td>\n",
       "      <td>Fay-Heriott</td>\n",
       "      <td>6.020043</td>\n",
       "      <td>4.335072</td>\n",
       "      <td>8.303091</td>\n",
       "      <td>232409</td>\n",
       "      <td>167359</td>\n",
       "      <td>320548</td>\n",
       "      <td>93.979957</td>\n",
       "    </tr>\n",
       "    <tr>\n",
       "      <th>4</th>\n",
       "      <td>West Coast</td>\n",
       "      <td>DC1</td>\n",
       "      <td>Survey</td>\n",
       "      <td>2.700000</td>\n",
       "      <td>0.000000</td>\n",
       "      <td>5.444000</td>\n",
       "      <td>11302</td>\n",
       "      <td>0</td>\n",
       "      <td>22789</td>\n",
       "      <td>97.300000</td>\n",
       "    </tr>\n",
       "  </tbody>\n",
       "</table>\n",
       "</div>"
      ],
      "text/plain": [
       "            District Code     Estimate  Prevalence_%  Prevalence_LCL  \\\n",
       "0       Buffalo City  BUF       Survey     13.600000       10.268000   \n",
       "1       Buffalo City  BUF  Fay-Heriott     13.501283       11.031605   \n",
       "2  City of Cape Town  CPT       Survey      5.200000        3.044000   \n",
       "3  City of Cape Town  CPT  Fay-Heriott      6.020043        4.335072   \n",
       "4         West Coast  DC1       Survey      2.700000        0.000000   \n",
       "\n",
       "   Prevalence_UCL  NoPLHIV  NoPLHIV_LCL  NoPLHIV_UCL  Non_Prevalence%  \n",
       "0       16.932000   102437        77340       127534        86.400000  \n",
       "1       16.421802   101693        83092       123691        86.498717  \n",
       "2        7.356000   200751       117517       283985        94.800000  \n",
       "3        8.303091   232409       167359       320548        93.979957  \n",
       "4        5.444000    11302            0        22789        97.300000  "
      ]
     },
     "execution_count": 273,
     "metadata": {},
     "output_type": "execute_result"
    }
   ],
   "source": [
    "df['Non_Prevalence%'] = 100 - df['Prevalence_%'] \n",
    "df.head()"
   ]
  },
  {
   "cell_type": "markdown",
   "id": "d26d787c",
   "metadata": {},
   "source": [
    "d) What is the total NoPLHIV in all the cities (districts with “city” or “metro” in the name)"
   ]
  },
  {
   "cell_type": "code",
   "execution_count": 274,
   "id": "0c86bf9f",
   "metadata": {},
   "outputs": [
    {
     "data": {
      "text/html": [
       "<div>\n",
       "<style scoped>\n",
       "    .dataframe tbody tr th:only-of-type {\n",
       "        vertical-align: middle;\n",
       "    }\n",
       "\n",
       "    .dataframe tbody tr th {\n",
       "        vertical-align: top;\n",
       "    }\n",
       "\n",
       "    .dataframe thead th {\n",
       "        text-align: right;\n",
       "    }\n",
       "</style>\n",
       "<table border=\"1\" class=\"dataframe\">\n",
       "  <thead>\n",
       "    <tr style=\"text-align: right;\">\n",
       "      <th></th>\n",
       "      <th>District</th>\n",
       "      <th>Code</th>\n",
       "      <th>Estimate</th>\n",
       "      <th>Prevalence_%</th>\n",
       "      <th>Prevalence_LCL</th>\n",
       "      <th>Prevalence_UCL</th>\n",
       "      <th>NoPLHIV</th>\n",
       "      <th>NoPLHIV_LCL</th>\n",
       "      <th>NoPLHIV_UCL</th>\n",
       "      <th>Non_Prevalence%</th>\n",
       "    </tr>\n",
       "  </thead>\n",
       "  <tbody>\n",
       "    <tr>\n",
       "      <th>0</th>\n",
       "      <td>Buffalo City</td>\n",
       "      <td>BUF</td>\n",
       "      <td>Survey</td>\n",
       "      <td>13.600000</td>\n",
       "      <td>10.268000</td>\n",
       "      <td>16.932000</td>\n",
       "      <td>102437</td>\n",
       "      <td>77340</td>\n",
       "      <td>127534</td>\n",
       "      <td>86.400000</td>\n",
       "    </tr>\n",
       "    <tr>\n",
       "      <th>1</th>\n",
       "      <td>Buffalo City</td>\n",
       "      <td>BUF</td>\n",
       "      <td>Fay-Heriott</td>\n",
       "      <td>13.501283</td>\n",
       "      <td>11.031605</td>\n",
       "      <td>16.421802</td>\n",
       "      <td>101693</td>\n",
       "      <td>83092</td>\n",
       "      <td>123691</td>\n",
       "      <td>86.498717</td>\n",
       "    </tr>\n",
       "    <tr>\n",
       "      <th>2</th>\n",
       "      <td>City of Cape Town</td>\n",
       "      <td>CPT</td>\n",
       "      <td>Survey</td>\n",
       "      <td>5.200000</td>\n",
       "      <td>3.044000</td>\n",
       "      <td>7.356000</td>\n",
       "      <td>200751</td>\n",
       "      <td>117517</td>\n",
       "      <td>283985</td>\n",
       "      <td>94.800000</td>\n",
       "    </tr>\n",
       "    <tr>\n",
       "      <th>3</th>\n",
       "      <td>City of Cape Town</td>\n",
       "      <td>CPT</td>\n",
       "      <td>Fay-Heriott</td>\n",
       "      <td>6.020043</td>\n",
       "      <td>4.335072</td>\n",
       "      <td>8.303091</td>\n",
       "      <td>232409</td>\n",
       "      <td>167359</td>\n",
       "      <td>320548</td>\n",
       "      <td>93.979957</td>\n",
       "    </tr>\n",
       "    <tr>\n",
       "      <th>96</th>\n",
       "      <td>City of Johannesburg</td>\n",
       "      <td>JHB</td>\n",
       "      <td>Survey</td>\n",
       "      <td>11.100000</td>\n",
       "      <td>7.964000</td>\n",
       "      <td>14.236000</td>\n",
       "      <td>515387</td>\n",
       "      <td>369778</td>\n",
       "      <td>660996</td>\n",
       "      <td>88.900000</td>\n",
       "    </tr>\n",
       "    <tr>\n",
       "      <th>97</th>\n",
       "      <td>City of Johannesburg</td>\n",
       "      <td>JHB</td>\n",
       "      <td>Fay-Heriott</td>\n",
       "      <td>11.075306</td>\n",
       "      <td>8.760104</td>\n",
       "      <td>13.909111</td>\n",
       "      <td>514241</td>\n",
       "      <td>406743</td>\n",
       "      <td>645818</td>\n",
       "      <td>88.924694</td>\n",
       "    </tr>\n",
       "    <tr>\n",
       "      <th>100</th>\n",
       "      <td>Nelson Mandela Bay Metro</td>\n",
       "      <td>NMA</td>\n",
       "      <td>Survey</td>\n",
       "      <td>8.300000</td>\n",
       "      <td>3.400000</td>\n",
       "      <td>13.200000</td>\n",
       "      <td>97459</td>\n",
       "      <td>39923</td>\n",
       "      <td>154995</td>\n",
       "      <td>91.700000</td>\n",
       "    </tr>\n",
       "    <tr>\n",
       "      <th>101</th>\n",
       "      <td>Nelson Mandela Bay Metro</td>\n",
       "      <td>NMA</td>\n",
       "      <td>Fay-Heriott</td>\n",
       "      <td>9.054060</td>\n",
       "      <td>6.128703</td>\n",
       "      <td>13.179704</td>\n",
       "      <td>106313</td>\n",
       "      <td>71964</td>\n",
       "      <td>154757</td>\n",
       "      <td>90.945940</td>\n",
       "    </tr>\n",
       "    <tr>\n",
       "      <th>102</th>\n",
       "      <td>City of Tshwane</td>\n",
       "      <td>TSH</td>\n",
       "      <td>Survey</td>\n",
       "      <td>11.700000</td>\n",
       "      <td>7.388000</td>\n",
       "      <td>16.012000</td>\n",
       "      <td>361450</td>\n",
       "      <td>228239</td>\n",
       "      <td>494661</td>\n",
       "      <td>88.300000</td>\n",
       "    </tr>\n",
       "    <tr>\n",
       "      <th>103</th>\n",
       "      <td>City of Tshwane</td>\n",
       "      <td>TSH</td>\n",
       "      <td>Fay-Heriott</td>\n",
       "      <td>11.024858</td>\n",
       "      <td>8.255934</td>\n",
       "      <td>14.574909</td>\n",
       "      <td>340593</td>\n",
       "      <td>255052</td>\n",
       "      <td>450265</td>\n",
       "      <td>88.975142</td>\n",
       "    </tr>\n",
       "  </tbody>\n",
       "</table>\n",
       "</div>"
      ],
      "text/plain": [
       "                     District Code     Estimate  Prevalence_%  Prevalence_LCL  \\\n",
       "0                Buffalo City  BUF       Survey     13.600000       10.268000   \n",
       "1                Buffalo City  BUF  Fay-Heriott     13.501283       11.031605   \n",
       "2           City of Cape Town  CPT       Survey      5.200000        3.044000   \n",
       "3           City of Cape Town  CPT  Fay-Heriott      6.020043        4.335072   \n",
       "96       City of Johannesburg  JHB       Survey     11.100000        7.964000   \n",
       "97       City of Johannesburg  JHB  Fay-Heriott     11.075306        8.760104   \n",
       "100  Nelson Mandela Bay Metro  NMA       Survey      8.300000        3.400000   \n",
       "101  Nelson Mandela Bay Metro  NMA  Fay-Heriott      9.054060        6.128703   \n",
       "102           City of Tshwane  TSH       Survey     11.700000        7.388000   \n",
       "103           City of Tshwane  TSH  Fay-Heriott     11.024858        8.255934   \n",
       "\n",
       "     Prevalence_UCL  NoPLHIV  NoPLHIV_LCL  NoPLHIV_UCL  Non_Prevalence%  \n",
       "0         16.932000   102437        77340       127534        86.400000  \n",
       "1         16.421802   101693        83092       123691        86.498717  \n",
       "2          7.356000   200751       117517       283985        94.800000  \n",
       "3          8.303091   232409       167359       320548        93.979957  \n",
       "96        14.236000   515387       369778       660996        88.900000  \n",
       "97        13.909111   514241       406743       645818        88.924694  \n",
       "100       13.200000    97459        39923       154995        91.700000  \n",
       "101       13.179704   106313        71964       154757        90.945940  \n",
       "102       16.012000   361450       228239       494661        88.300000  \n",
       "103       14.574909   340593       255052       450265        88.975142  "
      ]
     },
     "execution_count": 274,
     "metadata": {},
     "output_type": "execute_result"
    }
   ],
   "source": [
    "df[df['District'].str.contains('City|Metro')]"
   ]
  },
  {
   "cell_type": "code",
   "execution_count": 275,
   "id": "f362c0a8",
   "metadata": {},
   "outputs": [
    {
     "data": {
      "text/plain": [
       "District           Buffalo CityBuffalo CityCity of Cape TownCity ...\n",
       "Code                                  BUFBUFCPTCPTJHBJHBNMANMATSHTSH\n",
       "Estimate           SurveyFay-HeriottSurveyFay-HeriottSurveyFay-He...\n",
       "Prevalence_%                                               100.57555\n",
       "Prevalence_LCL                                             70.575418\n",
       "Prevalence_UCL                                            134.124617\n",
       "NoPLHIV                                                      2572733\n",
       "NoPLHIV_LCL                                                  1817007\n",
       "NoPLHIV_UCL                                                  3417250\n",
       "Non_Prevalence%                                            899.42445\n",
       "dtype: object"
      ]
     },
     "execution_count": 275,
     "metadata": {},
     "output_type": "execute_result"
    }
   ],
   "source": [
    "# total NoPLHIV in all the cities (city , metro)\n",
    "df[df['District'].str.contains('City|Metro')].sum()"
   ]
  },
  {
   "cell_type": "markdown",
   "id": "d460f458",
   "metadata": {},
   "source": [
    "3."
   ]
  },
  {
   "cell_type": "code",
   "execution_count": null,
   "id": "b9d1670c",
   "metadata": {},
   "outputs": [],
   "source": []
  },
  {
   "cell_type": "markdown",
   "id": "57d2979f",
   "metadata": {},
   "source": [
    "4.Using matplotlib, plot each Prevalence confidence interval (Prevalence_UCL and Prevalence_LCL) for Districts that end in “i”; according to Fay-Herriott estimates on 1 graph. "
   ]
  },
  {
   "cell_type": "code",
   "execution_count": 276,
   "id": "b51b09a7",
   "metadata": {},
   "outputs": [],
   "source": [
    "# string to be searched in end of string \n",
    "search =\"i\"\n",
    "  \n",
    "# boolean data frame\n",
    "df2 = df[\"District\"].str.lower().str.endswith(search)\n",
    "  \n",
    "# creating filtered data frame\n",
    "df_i = df[df2] "
   ]
  },
  {
   "cell_type": "code",
   "execution_count": 277,
   "id": "fa6046ac",
   "metadata": {},
   "outputs": [],
   "source": [
    "# filtered data frame by estimate\n",
    "df_ii = df_i.loc[df['Estimate'] == 'Fay-Heriott']"
   ]
  },
  {
   "cell_type": "code",
   "execution_count": 278,
   "id": "5c679f7f",
   "metadata": {},
   "outputs": [
    {
     "data": {
      "text/html": [
       "<div>\n",
       "<style scoped>\n",
       "    .dataframe tbody tr th:only-of-type {\n",
       "        vertical-align: middle;\n",
       "    }\n",
       "\n",
       "    .dataframe tbody tr th {\n",
       "        vertical-align: top;\n",
       "    }\n",
       "\n",
       "    .dataframe thead th {\n",
       "        text-align: right;\n",
       "    }\n",
       "</style>\n",
       "<table border=\"1\" class=\"dataframe\">\n",
       "  <thead>\n",
       "    <tr style=\"text-align: right;\">\n",
       "      <th></th>\n",
       "      <th>District</th>\n",
       "      <th>Code</th>\n",
       "      <th>Estimate</th>\n",
       "      <th>Prevalence_%</th>\n",
       "      <th>Prevalence_LCL</th>\n",
       "      <th>Prevalence_UCL</th>\n",
       "      <th>NoPLHIV</th>\n",
       "      <th>NoPLHIV_LCL</th>\n",
       "      <th>NoPLHIV_UCL</th>\n",
       "      <th>Non_Prevalence%</th>\n",
       "    </tr>\n",
       "  </thead>\n",
       "  <tbody>\n",
       "    <tr>\n",
       "      <th>11</th>\n",
       "      <td>Chris Hani</td>\n",
       "      <td>DC13</td>\n",
       "      <td>Fay-Heriott</td>\n",
       "      <td>14.080983</td>\n",
       "      <td>11.181220</td>\n",
       "      <td>17.583893</td>\n",
       "      <td>113090</td>\n",
       "      <td>89801</td>\n",
       "      <td>141224</td>\n",
       "      <td>85.919017</td>\n",
       "    </tr>\n",
       "    <tr>\n",
       "      <th>13</th>\n",
       "      <td>Joe Gqabi</td>\n",
       "      <td>DC14</td>\n",
       "      <td>Fay-Heriott</td>\n",
       "      <td>11.507804</td>\n",
       "      <td>9.291766</td>\n",
       "      <td>14.169794</td>\n",
       "      <td>40618</td>\n",
       "      <td>32796</td>\n",
       "      <td>50013</td>\n",
       "      <td>88.492196</td>\n",
       "    </tr>\n",
       "    <tr>\n",
       "      <th>25</th>\n",
       "      <td>Fezile Dabi</td>\n",
       "      <td>DC20</td>\n",
       "      <td>Fay-Heriott</td>\n",
       "      <td>10.030754</td>\n",
       "      <td>7.811309</td>\n",
       "      <td>12.793304</td>\n",
       "      <td>50767</td>\n",
       "      <td>39534</td>\n",
       "      <td>64748</td>\n",
       "      <td>89.969246</td>\n",
       "    </tr>\n",
       "    <tr>\n",
       "      <th>33</th>\n",
       "      <td>uMzinyathi</td>\n",
       "      <td>DC24</td>\n",
       "      <td>Fay-Heriott</td>\n",
       "      <td>18.097578</td>\n",
       "      <td>16.845087</td>\n",
       "      <td>19.421445</td>\n",
       "      <td>93061</td>\n",
       "      <td>86620</td>\n",
       "      <td>99868</td>\n",
       "      <td>81.902422</td>\n",
       "    </tr>\n",
       "    <tr>\n",
       "      <th>51</th>\n",
       "      <td>Ehlanzeni</td>\n",
       "      <td>DC32</td>\n",
       "      <td>Fay-Heriott</td>\n",
       "      <td>15.820960</td>\n",
       "      <td>12.012425</td>\n",
       "      <td>20.554906</td>\n",
       "      <td>271179</td>\n",
       "      <td>205899</td>\n",
       "      <td>352321</td>\n",
       "      <td>84.179040</td>\n",
       "    </tr>\n",
       "  </tbody>\n",
       "</table>\n",
       "</div>"
      ],
      "text/plain": [
       "       District  Code     Estimate  Prevalence_%  Prevalence_LCL  \\\n",
       "11   Chris Hani  DC13  Fay-Heriott     14.080983       11.181220   \n",
       "13    Joe Gqabi  DC14  Fay-Heriott     11.507804        9.291766   \n",
       "25  Fezile Dabi  DC20  Fay-Heriott     10.030754        7.811309   \n",
       "33   uMzinyathi  DC24  Fay-Heriott     18.097578       16.845087   \n",
       "51    Ehlanzeni  DC32  Fay-Heriott     15.820960       12.012425   \n",
       "\n",
       "    Prevalence_UCL  NoPLHIV  NoPLHIV_LCL  NoPLHIV_UCL  Non_Prevalence%  \n",
       "11       17.583893   113090        89801       141224        85.919017  \n",
       "13       14.169794    40618        32796        50013        88.492196  \n",
       "25       12.793304    50767        39534        64748        89.969246  \n",
       "33       19.421445    93061        86620        99868        81.902422  \n",
       "51       20.554906   271179       205899       352321        84.179040  "
      ]
     },
     "execution_count": 278,
     "metadata": {},
     "output_type": "execute_result"
    }
   ],
   "source": [
    "# view data frame with only district name ending 'i'\n",
    "df_ii.head()"
   ]
  },
  {
   "cell_type": "code",
   "execution_count": 279,
   "id": "2f7eed7f",
   "metadata": {},
   "outputs": [
    {
     "data": {
      "image/png": "[encoded data removed]",
      "text/plain": [
       "<Figure size 432x288 with 1 Axes>"
      ]
     },
     "metadata": {
      "needs_background": "light"
     },
     "output_type": "display_data"
    }
   ],
   "source": [
    "# create random data\n",
    "x = df_ii['Prevalence_LCL']\n",
    "y = df_ii['Prevalence_UCL']\n",
    "  \n",
    "# create regression plot with confidence interval of 95\n",
    "ax = sns.regplot(x, y, ci=95)"
   ]
  },
  {
   "cell_type": "markdown",
   "id": "93a42599",
   "metadata": {},
   "source": [
    "                                        # Thank you"
   ]
  },
  {
   "cell_type": "code",
   "execution_count": null,
   "id": "2f42c78f",
   "metadata": {},
   "outputs": [],
   "source": []
  }
 ],
 "metadata": {
  "kernelspec": {
   "display_name": "Python 3",
   "language": "python",
   "name": "python3"
  },
  "language_info": {
   "codemirror_mode": {
    "name": "ipython",
    "version": 3
   },
   "file_extension": ".py",
   "mimetype": "text/x-python",
   "name": "python",
   "nbconvert_exporter": "python",
   "pygments_lexer": "ipython3",
   "version": "3.8.8"
  }
 },
 "nbformat": 4,
 "nbformat_minor": 5
}
